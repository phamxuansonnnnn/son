{
 "cells": [
  {
   "cell_type": "code",
   "execution_count": 1,
   "metadata": {},
   "outputs": [
    {
     "name": "stdout",
     "output_type": "stream",
     "text": [
      "   instant      dteday  season  yr  mnth  hr  holiday  weekday  workingday  \\\n",
      "0        1  2011-01-01       1   0     1   0        0        6           0   \n",
      "1        2  2011-01-01       1   0     1   1        0        6           0   \n",
      "2        3  2011-01-01       1   0     1   2        0        6           0   \n",
      "3        4  2011-01-01       1   0     1   3        0        6           0   \n",
      "4        5  2011-01-01       1   0     1   4        0        6           0   \n",
      "\n",
      "   weathersit  temp   atemp   hum  windspeed  casual  registered  count  \n",
      "0           1  0.24  0.2879  0.81        0.0       3          13     16  \n",
      "1           1  0.22  0.2727  0.80        0.0       8          32     40  \n",
      "2           1  0.22  0.2727  0.80        0.0       5          27     32  \n",
      "3           1  0.24  0.2879  0.75        0.0       3          10     13  \n",
      "4           1  0.24  0.2879  0.75        0.0       0           1      1  \n"
     ]
    }
   ],
   "source": [
    "import pandas as pd\n",
    "\n",
    "PATH_FILE = '../Data/Hour.csv'\n",
    "\n",
    "hour = pd.read_csv(PATH_FILE)\n",
    "print(hour.head(5)) \n"
   ]
  },
  {
   "cell_type": "code",
   "execution_count": 3,
   "metadata": {},
   "outputs": [
    {
     "name": "stdout",
     "output_type": "stream",
     "text": [
      "(17379, 17)\n"
     ]
    }
   ],
   "source": [
    "# 1. How many rows and columns are there in the dataset?\n",
    "print(hour.shape)\n"
   ]
  },
  {
   "cell_type": "code",
   "execution_count": 4,
   "metadata": {},
   "outputs": [
    {
     "name": "stdout",
     "output_type": "stream",
     "text": [
      "189.46308763450142\n"
     ]
    }
   ],
   "source": [
    "# .mean(): This method returns the average value of the data. It is calculated by adding up all the numbers in the dataset and then dividing by the count of numbers. \n",
    "# For example, the mean of [1, 2, 3, 4, 5] is (1+2+3+4+5)/5 = 3.0.\n",
    "\n",
    "print(hour['count'].mean())\n"
   ]
  },
  {
   "cell_type": "code",
   "execution_count": 2,
   "metadata": {},
   "outputs": [
    {
     "name": "stdout",
     "output_type": "stream",
     "text": [
      "142.0\n"
     ]
    }
   ],
   "source": [
    "# .median(): This method returns the middle value of a sorted dataset. If the dataset has an odd number of observations, the median is the middle number. \n",
    "# If the dataset has an even number of observations, the median is the average of the two middle numbers. \n",
    "# For example, the median of [1, 2, 3, 4, 5] is 3, and the median of [1, 2, 3, 4] is (2+3)/2 = 2.5.\n",
    "\n",
    "print(hour['count'].median())   "
   ]
  },
  {
   "cell_type": "code",
   "execution_count": 5,
   "metadata": {},
   "outputs": [
    {
     "name": "stdout",
     "output_type": "stream",
     "text": [
      "181.38759909186527\n"
     ]
    }
   ],
   "source": [
    "print(hour['count'].std())  # .std(): This method returns the standard deviation of the data. It is a measure of the amount of variation or dispersion of a set of values."
   ]
  },
  {
   "cell_type": "code",
   "execution_count": 6,
   "metadata": {},
   "outputs": [
    {
     "name": "stdout",
     "output_type": "stream",
     "text": [
      "          instant        season            yr          mnth            hr  \\\n",
      "count  17379.0000  17379.000000  17379.000000  17379.000000  17379.000000   \n",
      "mean    8690.0000      2.501640      0.502561      6.537775     11.546752   \n",
      "std     5017.0295      1.106918      0.500008      3.438776      6.914405   \n",
      "min        1.0000      1.000000      0.000000      1.000000      0.000000   \n",
      "25%     4345.5000      2.000000      0.000000      4.000000      6.000000   \n",
      "50%     8690.0000      3.000000      1.000000      7.000000     12.000000   \n",
      "75%    13034.5000      3.000000      1.000000     10.000000     18.000000   \n",
      "max    17379.0000      4.000000      1.000000     12.000000     23.000000   \n",
      "\n",
      "            holiday       weekday    workingday    weathersit          temp  \\\n",
      "count  17379.000000  17379.000000  17379.000000  17379.000000  17379.000000   \n",
      "mean       0.028770      3.003683      0.682721      1.425283      0.496987   \n",
      "std        0.167165      2.005771      0.465431      0.639357      0.192556   \n",
      "min        0.000000      0.000000      0.000000      1.000000      0.020000   \n",
      "25%        0.000000      1.000000      0.000000      1.000000      0.340000   \n",
      "50%        0.000000      3.000000      1.000000      1.000000      0.500000   \n",
      "75%        0.000000      5.000000      1.000000      2.000000      0.660000   \n",
      "max        1.000000      6.000000      1.000000      4.000000      1.000000   \n",
      "\n",
      "              atemp           hum     windspeed        casual    registered  \\\n",
      "count  17379.000000  17379.000000  17379.000000  17379.000000  17379.000000   \n",
      "mean       0.475775      0.627229      0.190098     35.676218    153.786869   \n",
      "std        0.171850      0.192930      0.122340     49.305030    151.357286   \n",
      "min        0.000000      0.000000      0.000000      0.000000      0.000000   \n",
      "25%        0.333300      0.480000      0.104500      4.000000     34.000000   \n",
      "50%        0.484800      0.630000      0.194000     17.000000    115.000000   \n",
      "75%        0.621200      0.780000      0.253700     48.000000    220.000000   \n",
      "max        1.000000      1.000000      0.850700    367.000000    886.000000   \n",
      "\n",
      "              count  \n",
      "count  17379.000000  \n",
      "mean     189.463088  \n",
      "std      181.387599  \n",
      "min        1.000000  \n",
      "25%       40.000000  \n",
      "50%      142.000000  \n",
      "75%      281.000000  \n",
      "max      977.000000  \n"
     ]
    }
   ],
   "source": [
    "# .describe(): This method returns a summary of the data. It includes the count, mean, standard deviation, minimum, 25th percentile, 50th percentile, 75th percentile, and maximum of the data.\n",
    "print(hour.describe())    "
   ]
  },
  {
   "cell_type": "markdown",
   "metadata": {},
   "source": [
    " ## Analyzing Subset of Data"
   ]
  },
  {
   "cell_type": "code",
   "execution_count": 7,
   "metadata": {},
   "outputs": [
    {
     "name": "stdout",
     "output_type": "stream",
     "text": [
      "13\n"
     ]
    }
   ],
   "source": [
    "# .loc[]: This method is used to access a group of rows and columns by label(s) or a boolean array. It is used to select rows and columns by label. \n",
    "# When we use loc(), we specify the subset we want to select by using square brackets with this pattern: [<row>,<column>].\n",
    "print(hour.loc[3, 'count']) "
   ]
  },
  {
   "cell_type": "code",
   "execution_count": 9,
   "metadata": {},
   "outputs": [
    {
     "name": "stdout",
     "output_type": "stream",
     "text": [
      "2    27\n",
      "3    10\n",
      "4     1\n",
      "Name: registered, dtype: int64\n"
     ]
    }
   ],
   "source": [
    "# In this snippet, we specify that we want values of the registered variable. \n",
    "#By specifying 2:4 in the square brackets, we indicate that we want all the rows between row 2 and row 4, so we get three numbers as output: 27, 10, and 1\n",
    "print(hour.loc[2:4, 'registered'])"
   ]
  },
  {
   "cell_type": "code",
   "execution_count": 11,
   "metadata": {},
   "outputs": [
    {
     "name": "stdout",
     "output_type": "stream",
     "text": [
      "20.7881427367238\n"
     ]
    }
   ],
   "source": [
    "# This part of the code is filtering the 'hour' DataFrame based on a condition. It selects rows where the value in the 'hr' column is less than 5.\n",
    "# After filtering the DataFrame, this part further selects only the 'registered' column from the filtered rows.\n",
    "# Finally, it calculates the mean of the 'registered' column.\n",
    "\n",
    "print(hour.loc[hour['hr']<5,'registered'].mean())"
   ]
  },
  {
   "cell_type": "code",
   "execution_count": null,
   "metadata": {},
   "outputs": [],
   "source": [
    "# This part of the code is using the loc function to filter the hour DataFrame based on two conditions:\n",
    "# (hour['hr']<5) and hour['temp']<.50. It then selects the 'count' column from the filtered rows.\n",
    "# Finally, it calculates the mean of the 'count' column.\n",
    "\n",
    "print(hour.loc[(hour['hr']<5) & (hour['temp']<.50),'count'].mean())"
   ]
  },
  {
   "cell_type": "code",
   "execution_count": 13,
   "metadata": {},
   "outputs": [
    {
     "name": "stdout",
     "output_type": "stream",
     "text": [
      "193.36764103264582\n"
     ]
    }
   ],
   "source": [
    "# It's same above but using OR operator\n",
    "# Then it calculates the mean of the 'count' column.\n",
    "\n",
    "print(hour.loc[(hour['temp']>0.5) | (hour['hum']>0.5),'count'].mean())"
   ]
  },
  {
   "cell_type": "markdown",
   "metadata": {},
   "source": [
    "## Seasonal Data\n",
    "\n",
    "Seasonal data refers to data that exhibits a recurring pattern or trend over a specific time period. This pattern repeats itself at regular intervals, such as daily, weekly, monthly, or yearly. Seasonal data is commonly observed in various domains, including sales, weather, stock market, and tourism. Analyzing seasonal data helps identify and understand the underlying patterns, trends, and seasonality effects, which can be useful for forecasting, planning, and decision-making.\n",
    "Seasonal Data is "
   ]
  },
  {
   "cell_type": "code",
   "execution_count": 14,
   "metadata": {},
   "outputs": [
    {
     "name": "stdout",
     "output_type": "stream",
     "text": [
      "season\n",
      "1    111.114569\n",
      "2    208.344069\n",
      "3    236.016237\n",
      "4    198.868856\n",
      "Name: count, dtype: float64\n"
     ]
    }
   ],
   "source": [
    "# This code is using the groupby() function to group the data in the hour DataFrame by the 'season' column\n",
    "\n",
    "print(hour.groupby(['season'])['count'].mean())\n"
   ]
  },
  {
   "cell_type": "code",
   "execution_count": 16,
   "metadata": {},
   "outputs": [
    {
     "name": "stdout",
     "output_type": "stream",
     "text": [
      "season  holiday\n",
      "1       0          112.685875\n",
      "        1           72.042683\n",
      "2       0          208.428472\n",
      "        1          204.552083\n",
      "3       0          235.976818\n",
      "        1          237.822917\n",
      "4       0          199.965998\n",
      "        1          167.722222\n",
      "Name: count, dtype: float64\n"
     ]
    }
   ],
   "source": [
    "#The code print(hour.groupby(['season','holiday'])['count'].mean()) performs a group-by operation on the hour DataFrame based on two columns: season and holiday.\n",
    "\n",
    "print(hour.groupby(['season','holiday'])['count'].mean())"
   ]
  },
  {
   "cell_type": "markdown",
   "metadata": {},
   "source": [
    "## Visualizing Data with Matplotlib"
   ]
  },
  {
   "cell_type": "markdown",
   "metadata": {},
   "source": [
    "### Drawing and Displaying a Simple Plot"
   ]
  },
  {
   "cell_type": "code",
   "execution_count": null,
   "metadata": {},
   "outputs": [],
   "source": [
    "# fig, ax = plt.subplots(figsize=(10, 6)): This line creates a new figure with a single subplot. \n",
    "# The figsize=(10, 6) argument sets the size of the figure to be 10 inches wide and 6 inches. \n",
    "# The plt.subplots() function returns two objects: fig (the whole figure) and ax (the subplot).\n",
    "\n",
    "# ax.scatter(x= hour['instant'], y=hour['count']): This line creates a scatter plot on the subplot ax. \n",
    "# The x and y arguments specify the data to be plotted on the x-axis and y-axis, respectively. \n",
    "# In this case, the 'instant' column from the 'hour' DataFrame is plotted on the x-axis, and the 'count' column from the same DataFrame is plotted on the y-axis.\n",
    "\n",
    "# plt.show(): This line displays the plot.\n",
    "import matplotlib.pyplot as plt\n",
    "fig, ax = plt.subplots(figsize=(10, 6))\n",
    "ax.scatter(x= hour['instant'], y=hour['count']) \n",
    "plt.show()"
   ]
  },
  {
   "cell_type": "markdown",
   "metadata": {},
   "source": [
    "### Clarifying Plots with Titles and Labels"
   ]
  },
  {
   "cell_type": "code",
   "execution_count": null,
   "metadata": {},
   "outputs": [],
   "source": []
  }
 ],
 "metadata": {
  "kernelspec": {
   "display_name": "env_3_11",
   "language": "python",
   "name": "python3"
  },
  "language_info": {
   "codemirror_mode": {
    "name": "ipython",
    "version": 3
   },
   "file_extension": ".py",
   "mimetype": "text/x-python",
   "name": "python",
   "nbconvert_exporter": "python",
   "pygments_lexer": "ipython3",
   "version": "3.11.4"
  }
 },
 "nbformat": 4,
 "nbformat_minor": 2
}
